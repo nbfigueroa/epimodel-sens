{
 "cells": [
  {
   "cell_type": "code",
   "execution_count": 1,
   "metadata": {},
   "outputs": [],
   "source": [
    "using Gen\n",
    "using PyCall\n",
    "using ProgressBars\n",
    "pushfirst!(PyVector(pyimport(\"sys\").\"path\"), \"\");\n",
    "using PyPlot\n",
    "\n"
   ]
  },
  {
   "cell_type": "code",
   "execution_count": 2,
   "metadata": {},
   "outputs": [
    {
     "data": {
      "text/plain": [
       "35.707810173235266"
      ]
     },
     "execution_count": 2,
     "metadata": {},
     "output_type": "execute_result"
    }
   ],
   "source": [
    "SIR = pyimport(\"sir\")\n",
    "sns = pyimport(\"seaborn\")\n",
    "matplotlib = pyimport(\"matplotlib\")\n",
    "#%matplotlib inline\n",
    "plt = matplotlib.pyplot\n",
    "model = SIR.SIR(1000)\n",
    "S,I,R  = model.project(10)\n",
    "I[end]"
   ]
  },
  {
   "cell_type": "markdown",
   "metadata": {},
   "source": [
    "# Probabilistic Disease Model"
   ]
  },
  {
   "cell_type": "code",
   "execution_count": 3,
   "metadata": {},
   "outputs": [
    {
     "name": "stderr",
     "output_type": "stream",
     "text": [
      "┌ Warning: `lgamma(x::Real)` is deprecated, use `(logabsgamma(x))[1]` instead.\n",
      "│   caller = traceat(::Gen.GFSimulateState, ::Gen.Poisson, ::Tuple{Int64}, ::Symbol) at poisson.jl:11\n",
      "└ @ Gen /home/ajshah/.julia/packages/Gen/qL5ue/src/modeling_library/poisson.jl:11\n"
     ]
    },
    {
     "name": "stdout",
     "output_type": "stream",
     "text": [
      "│\n",
      "├── :obs : -128.2105658498664\n",
      "│\n",
      "└── :model\n",
      "    │\n",
      "    ├── :log_r0 : 0.18713977785138514\n",
      "    │\n",
      "    ├── :inf_period : 5.223457867052005\n",
      "    │\n",
      "    └── :intro : 11\n",
      "\n",
      "0.18713977785138514\n"
     ]
    }
   ],
   "source": [
    "projection_days = 90; \n",
    "N = 1300000000; #1.3 Billion population of India\n",
    "\n",
    "sigma = 100\n",
    "\n",
    "@gen function sample_SIR()\n",
    "    \n",
    "    #Sample date of introduction\n",
    "    intro = @trace(poisson(10), :intro) #Expected introduction 10 days from now\n",
    "    days = projection_days - intro\n",
    "    \n",
    "    log_r0 = @trace(normal(log(2.6), 0.5), :log_r0)\n",
    "    r0 = exp(log_r0)\n",
    "    \n",
    "    inf_period = @trace(normal(4.5, 0.5), :inf_period)\n",
    "    \n",
    "    model = SIR.SIR(N, r0 = r0, inf_period = inf_period)\n",
    "    #S,I,R = model.project(days)\n",
    "    return model\n",
    "end\n",
    "\n",
    "@gen function final_infections(sigma)\n",
    "    model = @trace(sample_SIR(), :model)\n",
    "    #println(model)\n",
    "    final_infected = model.final_infection()[1]*model.N\n",
    "    obs = @trace(normal(final_infected, sigma), :obs)\n",
    "    return final_infected\n",
    "end\n",
    "\n",
    "@gen function projection(days, sigma)\n",
    "    model = @trace(sample_SIR(), :model)\n",
    "    S,I,R = model.project(days)\n",
    "    \n",
    "    infected_population = I[end]\n",
    "    obs = @trace(normal(infected_population, sigma), :obs)\n",
    "    return infected_population\n",
    "end\n",
    "\n",
    "@gen function peak_case_load(days, sigma)\n",
    "    model = @trace(sample_SIR(), :model)\n",
    "    S,I,R = model.project(days)\n",
    "    \n",
    "    max_load = maximum(I)\n",
    "    obs = @trace(normal(max_load, sigma), :obs)\n",
    "    return max_load\n",
    "end\n",
    "    \n",
    "\n",
    "tr = simulate(projection, (10,100))\n",
    "println(get_choices(tr))\n",
    "println(tr[:model => :log_r0])\n"
   ]
  },
  {
   "cell_type": "markdown",
   "metadata": {},
   "source": [
    "# MH Sampling"
   ]
  },
  {
   "cell_type": "markdown",
   "metadata": {},
   "source": [
    "**Gaussian drift proposal**\n"
   ]
  },
  {
   "cell_type": "code",
   "execution_count": 4,
   "metadata": {},
   "outputs": [],
   "source": [
    "sigma_r0 = 0.001\n",
    "sigma_inf = 1\n",
    "\n",
    "#Block resampling for date of introduction\n",
    "\n",
    "@gen function drift_proposal(tr, sigma_r0, sigma_inf)\n",
    "    \n",
    "    #perturb r0/\n",
    "    \n",
    "    @trace(normal(tr[:model => :log_r0], sigma_r0), :model => :log_r0)\n",
    "    \n",
    "    #perturb infection period\n",
    "    @trace(normal(tr[:model => :inf_period], sigma_inf), :model => :inf_period)\n",
    "    \n",
    "    #@trace(poisson(10), :model => :intro)\n",
    "    end;\n",
    "\n",
    "# tr = simulate(projection,(10, 100))\n",
    "# println(get_choices(tr))\n",
    "# tr = simulate(drift_proposal, (tr, sigma_r0, sigma_inf))\n",
    "# println(get_choices(tr))\n",
    "\n",
    "    "
   ]
  },
  {
   "cell_type": "markdown",
   "metadata": {},
   "source": [
    "**Final Infections**"
   ]
  },
  {
   "cell_type": "code",
   "execution_count": 17,
   "metadata": {},
   "outputs": [
    {
     "name": "stderr",
     "output_type": "stream",
     "text": [
      "┌ Warning: `lgamma(x::Real)` is deprecated, use `(logabsgamma(x))[1]` instead.\n",
      "│   caller = traceat(::Gen.GFUpdateState, ::Gen.Poisson, ::Tuple{Int64}, ::Symbol) at poisson.jl:11\n",
      "└ @ Gen /home/ajshah/.julia/packages/Gen/qL5ue/src/modeling_library/poisson.jl:11\n"
     ]
    },
    {
     "name": "stdout",
     "output_type": "stream",
     "text": [
      "100.00%┣████████████████████████████████████████████████████▉┫ 10000/10000 00:04<00:00, 2839.01 it/s]\n",
      "100.00%┣████████████████████████████████████████████████████▉┫ 50000/50000 00:14<00:00, 3468.84 it/s]\n"
     ]
    }
   ],
   "source": [
    "observed_final_infections = 100000000 #100 million final infections\n",
    "nsamples = 50000\n",
    "burn = 10000\n",
    "samples = []\n",
    "r0s = []\n",
    "inf_periods = []\n",
    "\n",
    "constraints = choicemap()\n",
    "constraints[:obs] = observed_final_infections\n",
    "\n",
    "#Draw and discard burning samples\n",
    "tr,_ = generate(final_infections, (100,), constraints)\n",
    "push!(samples, tr)\n",
    "for i = tqdm(1:burn)    \n",
    "    (tr, _) = mh(tr, drift_proposal, (sigma_r0, sigma_inf))\n",
    "end\n",
    "\n",
    "#Now collect the samples\n",
    "for i = tqdm(1:nsamples)\n",
    "    (tr, flag) = mh(tr, drift_proposal, (sigma_r0, sigma_inf))\n",
    "    if flag\n",
    "        push!(samples, tr)\n",
    "    end\n",
    "end\n",
    "\n",
    "r0s_final = []\n",
    "inf_periods_final = []\n",
    "for i = 2:length(samples)\n",
    "    push!(r0s_final, exp(samples[i][:model=>:log_r0]))\n",
    "    push!(inf_periods_final, samples[i][:model=>:inf_period])\n",
    "end\n"
   ]
  },
  {
   "cell_type": "code",
   "execution_count": 19,
   "metadata": {},
   "outputs": [
    {
     "data": {
      "image/png": "[encoded data removed]",
      "text/plain": [
       "Figure(PyObject <Figure size 640x480 with 1 Axes>)"
      ]
     },
     "metadata": {},
     "output_type": "display_data"
    },
    {
     "name": "stdout",
     "output_type": "stream",
     "text": [
      "Any[1.04056, 1.04056, 1.04056, 1.04056, 1.04056, 1.04056, 1.04056]\n"
     ]
    },
    {
     "data": {
      "text/plain": [
       "PyObject <matplotlib.axes._subplots.AxesSubplot object at 0x7f432def6dd8>"
      ]
     },
     "execution_count": 19,
     "metadata": {},
     "output_type": "execute_result"
    }
   ],
   "source": [
    "println(r0s_final)\n",
    "sns.kdeplot(r0s_final)"
   ]
  },
  {
   "cell_type": "markdown",
   "metadata": {},
   "source": [
    "**Projections by Nth day**"
   ]
  },
  {
   "cell_type": "code",
   "execution_count": 22,
   "metadata": {},
   "outputs": [
    {
     "name": "stdout",
     "output_type": "stream",
     "text": [
      "100.00%┣█████████████████████████████████████████████████████▉┫ 10000/10000 00:13<00:00, 743.88 it/s]\n",
      "100.00%┣█████████████████████████████████████████████████████▉┫ 50000/50000 01:13<00:00, 680.48 it/s]\n",
      "Any[2.37395, 2.37425]\n"
     ]
    }
   ],
   "source": [
    "observed_final_infections = 100000000 #100 million infections by day 100\n",
    "nsamples = 50000\n",
    "burn = 10000\n",
    "samples = []\n",
    "r0s = []\n",
    "inf_periods = []\n",
    "\n",
    "constraints = choicemap()\n",
    "constraints[:obs] = observed_final_infections\n",
    "\n",
    "#Draw and discard burning samples\n",
    "tr,_ = generate(projection, (100,100), constraints)\n",
    "push!(samples, tr)\n",
    "for i = tqdm(1:burn)    \n",
    "    (tr, _) = mh(tr, drift_proposal, (sigma_r0, sigma_inf))\n",
    "end\n",
    "\n",
    "#Now collect the samples\n",
    "for i = tqdm(1:nsamples)\n",
    "    (tr, flag) = mh(tr, drift_proposal, (sigma_r0, sigma_inf))\n",
    "    if flag\n",
    "        push!(samples, tr)\n",
    "    end\n",
    "end\n",
    "\n",
    "r0s_projected = []\n",
    "inf_periods_projected = []\n",
    "retvals_projected = []\n",
    "for i = 2:length(samples)\n",
    "    push!(r0s_projected, exp(samples[i][:model=>:log_r0]))\n",
    "    push!(inf_periods_projected, samples[i][:model=>:inf_period])\n",
    "    push!(retvals_projected, get_retval(samples[i]))\n",
    "end\n",
    "\n",
    "\n",
    "println(r0s_projected)\n",
    "\n"
   ]
  },
  {
   "cell_type": "code",
   "execution_count": 29,
   "metadata": {},
   "outputs": [
    {
     "data": {
      "image/png": "[encoded data removed]",
      "text/plain": [
       "Figure(PyObject <Figure size 640x480 with 1 Axes>)"
      ]
     },
     "metadata": {},
     "output_type": "display_data"
    },
    {
     "name": "stdout",
     "output_type": "stream",
     "text": [
      "Any[2.37395, 2.37425]\n",
      "Any[5.53419, 5.5352]\n",
      "Any[9.99957e7, 1.00002e8]\n"
     ]
    }
   ],
   "source": [
    "println(r0s_projected)\n",
    "println(inf_periods_projected)\n",
    "sns.kdeplot(r0s_projected)\n",
    "\n",
    "retvals_projected = []\n",
    "for i = 2:length(samples)\n",
    "    push!(retvals_projected, get_retval(samples[i]))\n",
    "end\n",
    "\n",
    "println(retvals_projected)"
   ]
  },
  {
   "cell_type": "markdown",
   "metadata": {},
   "source": [
    "**Peak Case Load**"
   ]
  },
  {
   "cell_type": "code",
   "execution_count": 32,
   "metadata": {},
   "outputs": [
    {
     "name": "stdout",
     "output_type": "stream",
     "text": [
      "100.00%┣█████████████████████████████████████████████████████▉┫ 10000/10000 00:16<00:00, 607.70 it/s]\n",
      "100.00%┣█████████████████████████████████████████████████████▉┫ 50000/50000 01:19<00:00, 630.42 it/s]\n"
     ]
    }
   ],
   "source": [
    "observed_final_infections = 100000000 #100 million peak case load\n",
    "nsamples = 50000\n",
    "burn = 10000\n",
    "samples = []\n",
    "\n",
    "constraints = choicemap()\n",
    "constraints[:obs] = observed_final_infections\n",
    "\n",
    "#Draw and discard burning samples\n",
    "tr,_ = generate(peak_case_load, (100,100), constraints)\n",
    "\n",
    "for i = tqdm(1:burn)    \n",
    "    (tr, _) = mh(tr, drift_proposal, (sigma_r0, sigma_inf))\n",
    "end\n",
    "push!(samples, tr)\n",
    "#Now collect the samples\n",
    "for i = tqdm(1:nsamples)\n",
    "    (tr, flag) = mh(tr, drift_proposal, (sigma_r0, sigma_inf))\n",
    "    if flag\n",
    "        push!(samples, tr)\n",
    "    end\n",
    "end\n",
    "\n",
    "r0s_peak = []\n",
    "inf_periods_peak = []\n",
    "for i = 2:length(samples)\n",
    "    push!(r0s_peak, exp(samples[i][:model=>:log_r0]))\n",
    "    push!(inf_periods_peak, samples[i][:model=>:inf_period])\n",
    "end\n",
    "\n",
    "\n"
   ]
  },
  {
   "cell_type": "code",
   "execution_count": 31,
   "metadata": {},
   "outputs": [
    {
     "ename": "UndefVarError",
     "evalue": "UndefVarError: r0s_peak not defined",
     "output_type": "error",
     "traceback": [
      "UndefVarError: r0s_peak not defined",
      "",
      "Stacktrace:",
      " [1] top-level scope at In[31]:1"
     ]
    }
   ],
   "source": [
    "println(r0s_peak)\n",
    "println(inf_periods_peak)"
   ]
  },
  {
   "cell_type": "markdown",
   "metadata": {},
   "source": [
    "## Annealed ImportanceSampling"
   ]
  },
  {
   "cell_type": "markdown",
   "metadata": {},
   "source": [
    "**Final Infections**"
   ]
  },
  {
   "cell_type": "code",
   "execution_count": null,
   "metadata": {},
   "outputs": [],
   "source": [
    "final_infections = 100000000\n",
    "constraints = choicemap()\n",
    "constraints[:obs] = final_infections"
   ]
  },
  {
   "cell_type": "code",
   "execution_count": 14,
   "metadata": {},
   "outputs": [],
   "source": [
    "#Particle Filter parameters\n",
    "sigma = 50000 #Geometric schedule decay by 0.95\n",
    "n_particles = 10000\n",
    "n_anneal = 10 #annealing steps\n",
    "n_mh_moves = 5\n",
    "\n",
    "function decay(sigma)\n",
    "    return 0.8*sigma\n",
    "end\n",
    "\n",
    "#Drift proposal parameters\n",
    "sigma_r0 = 0.001\n",
    "sigma_inf = 1;"
   ]
  },
  {
   "cell_type": "markdown",
   "metadata": {},
   "source": [
    "Initialize the particle filter with a very broad likelihood"
   ]
  },
  {
   "cell_type": "code",
   "execution_count": 34,
   "metadata": {},
   "outputs": [],
   "source": [
    "state = initialize_particle_filter(final_infections, (sigma,), constraints, 10000);"
   ]
  },
  {
   "cell_type": "markdown",
   "metadata": {},
   "source": [
    "Anneal with 5 MH moves every time"
   ]
  },
  {
   "cell_type": "code",
   "execution_count": 40,
   "metadata": {},
   "outputs": [
    {
     "name": "stdout",
     "output_type": "stream",
     "text": [
      "100.00%┣██████████████████████████████████████████████████████████████┫ 10/10 03:05<00:00, 0.05 it/s]\n"
     ]
    }
   ],
   "source": [
    "for i_anneal = tqdm(1:n_anneal)\n",
    "    #MH moves for each trace\n",
    "    for i = 1:n_particles\n",
    "        for j = 1:n_mh_moves\n",
    "            state.traces[i],_ = mh(state.traces[i], drift_proposal, (sigma_r0, sigma_inf))\n",
    "        end\n",
    "    end\n",
    "    \n",
    "    #Anneal the observation sigma\n",
    "    sigma = decay(sigma)\n",
    "    particle_filter_step!(state, (sigma,), (UnknownChange(),), choicemap())\n",
    "    maybe_resample!(state)\n",
    "end"
   ]
  },
  {
   "cell_type": "markdown",
   "metadata": {},
   "source": [
    "Sample unweighted traces"
   ]
  },
  {
   "cell_type": "code",
   "execution_count": 42,
   "metadata": {},
   "outputs": [
    {
     "data": {
      "image/png": "[encoded data removed]",
      "text/plain": [
       "Figure(PyObject <Figure size 640x480 with 1 Axes>)"
      ]
     },
     "metadata": {},
     "output_type": "display_data"
    },
    {
     "data": {
      "text/plain": [
       "PyObject <matplotlib.axes._subplots.AxesSubplot object at 0x7f432d2fb278>"
      ]
     },
     "execution_count": 42,
     "metadata": {},
     "output_type": "execute_result"
    }
   ],
   "source": [
    "traces = sample_unweighted_traces(state, 500);\n",
    "r0s_final = []\n",
    "for i = 1:500\n",
    "    push!(r0s_final, exp(traces[i][:model => :log_r0]))\n",
    "end\n",
    "\n",
    "sns.kdeplot(r0s_final)"
   ]
  },
  {
   "cell_type": "markdown",
   "metadata": {},
   "source": [
    "**Projected by Nth day**"
   ]
  },
  {
   "cell_type": "code",
   "execution_count": 15,
   "metadata": {},
   "outputs": [],
   "source": [
    "projected_infections = 100000000\n",
    "constraints = choicemap()\n",
    "constraints[:obs] = projected_infections;"
   ]
  },
  {
   "cell_type": "code",
   "execution_count": 16,
   "metadata": {},
   "outputs": [],
   "source": [
    "#Particle Filter parameters\n",
    "sigma = 1000000 #Geometric schedule decay by 0.95\n",
    "n_particles = 5000\n",
    "n_anneal = 10 #annealing steps\n",
    "n_mh_moves = 5\n",
    "\n",
    "#Drift proposal parameters\n",
    "sigma_r0 = 0.001\n",
    "sigma_inf = 1;"
   ]
  },
  {
   "cell_type": "markdown",
   "metadata": {},
   "source": [
    "Initialize the particle filter with a very broad likelihood"
   ]
  },
  {
   "cell_type": "code",
   "execution_count": null,
   "metadata": {},
   "outputs": [
    {
     "name": "stdout",
     "output_type": "stream",
     "text": [
      "1000000\n",
      "40.00%┣█████████████████████████▌                                      ┫ 4/10 03:37<07:15, 0.01 it/s]"
     ]
    }
   ],
   "source": [
    "println(sigma)\n",
    "state = initialize_particle_filter(projection, (100,sigma), constraints, n_particles);\n",
    "\n",
    "for i_anneal = tqdm(1:n_anneal)\n",
    "    #MH moves for each trace\n",
    "    for i = 1:n_particles\n",
    "        for j = 1:n_mh_moves\n",
    "            state.traces[i],_ = mh(state.traces[i], drift_proposal, (sigma_r0, sigma_inf))\n",
    "        end\n",
    "    end\n",
    "    \n",
    "    #Anneal the observation sigma\n",
    "    sigma = decay(sigma)\n",
    "    particle_filter_step!(state, (100, sigma,), (UnknownChange(),), choicemap())\n",
    "    maybe_resample!(state)\n",
    "end\n",
    "\n",
    "traces = sample_unweighted_traces(state, 500);\n",
    "r0s_final = []\n",
    "for i = 1:500\n",
    "    push!(r0s_final, exp(traces[i][:model => :log_r0]))\n",
    "end\n",
    "\n",
    "sns.kdeplot(r0s_final)\n",
    "println(sigma)"
   ]
  },
  {
   "cell_type": "code",
   "execution_count": null,
   "metadata": {},
   "outputs": [],
   "source": [
    "println(r0s_final)"
   ]
  },
  {
   "cell_type": "code",
   "execution_count": null,
   "metadata": {},
   "outputs": [],
   "source": []
  }
 ],
 "metadata": {
  "kernelspec": {
   "display_name": "Julia 1.1.0",
   "language": "julia",
   "name": "julia-1.1"
  },
  "language_info": {
   "file_extension": ".jl",
   "mimetype": "application/julia",
   "name": "julia",
   "version": "1.1.0"
  }
 },
 "nbformat": 4,
 "nbformat_minor": 4
}
