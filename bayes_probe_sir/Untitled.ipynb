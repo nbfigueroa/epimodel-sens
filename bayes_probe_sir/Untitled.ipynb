{
 "cells": [
  {
   "cell_type": "code",
   "execution_count": 1,
   "metadata": {},
   "outputs": [],
   "source": [
    "using Gen\n",
    "using PyCall\n",
    "using ProgressBars\n",
    "pushfirst!(PyVector(pyimport(\"sys\").\"path\"), \"\");\n"
   ]
  },
  {
   "cell_type": "code",
   "execution_count": 5,
   "metadata": {},
   "outputs": [
    {
     "data": {
      "text/plain": [
       "35.707810173235266"
      ]
     },
     "execution_count": 5,
     "metadata": {},
     "output_type": "execute_result"
    }
   ],
   "source": [
    "SIR = pyimport(\"sir\")\n",
    "model = SIR.SIR(1000, 10)\n",
    "S,I,R  = model.project()\n",
    "I[end]"
   ]
  },
  {
   "cell_type": "code",
   "execution_count": 11,
   "metadata": {},
   "outputs": [
    {
     "name": "stdout",
     "output_type": "stream",
     "text": [
      "([1.3e9, 1.3e9, 1.3e9, 1.3e9, 1.3e9, 1.3e9, 1.3e9, 1.3e9, 1.3e9, 1.3e9, 1.3e9, 1.3e9, 1.3e9, 1.3e9, 1.3e9, 1.3e9, 1.3e9, 1.3e9, 1.3e9, 1.3e9, 1.3e9, 1.3e9, 1.3e9, 1.3e9, 1.3e9, 1.3e9, 1.3e9, 1.3e9, 1.29999e9, 1.29999e9, 1.29999e9, 1.29999e9, 1.29998e9, 1.29997e9, 1.29997e9, 1.29996e9, 1.29994e9, 1.29992e9, 1.29989e9, 1.29986e9, 1.29981e9, 1.29974e9, 1.29966e9, 1.29954e9, 1.29938e9, 1.29918e9, 1.2989e9, 1.29853e9, 1.29803e9, 1.29736e9, 1.29648e9, 1.29529e9, 1.29371e9, 1.2916e9, 1.28879e9, 1.28506e9, 1.28012e9, 1.27358e9, 1.26497e9, 1.25369e9, 1.23901e9, 1.22009e9, 1.19595e9, 1.16561e9, 1.12815e9, 1.08288e9, 1.02958e9, 9.68682e8, 9.0141e8, 8.29732e8, 7.56154e8, 6.8335e8, 6.13758e8, 5.49264e8, 4.91059e8, 4.39654e8, 3.95013e8, 3.56728e8, 3.2418e8], [1.0, 1.33804, 1.79035, 2.39556, 3.20535, 4.28889, 5.7387, 7.67861, 10.2743, 13.7474, 18.3945, 24.6126, 32.9327, 44.0652, 58.961, 78.8921, 105.561, 141.244, 188.991, 252.877, 338.359, 452.738, 605.781, 810.558, 1084.56, 1451.18, 1941.73, 2598.11, 3476.37, 4651.51, 6223.88, 8327.76, 11142.8, 14909.4, 19949.1, 26692.3, 35714.7, 47786.4, 63937.9, 85547.4, 1.14459e5, 1.53137e5, 2.04881e5, 2.74097e5, 366679.0, 490499.0, 6.56071e5, 8.77426e5, 1.17328e6, 1.56854e6, 2.09635e6, 2.80069e6, 3.73974e6, 4.9902e6, 6.65266e6, 8.85814e6, 1.17757e7, 1.56205e7, 2.06621e7, 2.72295e7, 3.57103e7, 4.65388e7, 6.01633e7, 7.69859e7, 9.72663e7, 1.20993e8, 1.47742e8, 1.76565e8, 2.05974e8, 2.34066e8, 2.58797e8, 2.78345e8, 2.91437e8, 2.97529e8, 2.96809e8, 2.90046e8, 2.78364e8, 2.63022e8, 2.4524e8], [0.0, 0.229759, 0.537185, 0.948533, 1.49893, 2.23539, 3.2208, 4.53932, 6.30354, 8.66415, 11.8227, 16.049, 21.704, 29.2706, 39.3949, 52.9417, 71.0679, 95.3214, 127.773, 171.196, 229.296, 307.037, 411.058, 550.241, 736.474, 985.66, 1319.08, 1765.21, 2362.15, 3160.87, 4229.6, 5659.58, 7572.95, 10133.1, 13558.6, 18142.1, 24274.8, 32480.5, 43459.6, 58149.6, 77804.2, 104101.0, 1.39284e5, 1.86353e5, 249323.0, 3.33559e5, 4.46235e5, 5.96937e5, 7.98469e5, 1.06792e6, 1.4281e6, 1.90938e6, 2.55221e6, 3.41026e6, 4.55471e6, 6.07948e6, 8.1081e6, 1.0802e7, 1.43704e7, 1.90817e7, 2.52754e7, 3.33726e7, 4.38825e7, 5.73997e7, 7.45863e7, 9.61311e7, 1.22682e8, 1.54753e8, 1.92616e8, 2.36202e8, 2.85049e8, 3.38304e8, 3.94805e8, 4.53207e8, 5.12132e8, 5.703e8, 6.26623e8, 6.8025e8, 7.3058e8])\n"
     ]
    }
   ],
   "source": [
    "projection_days = 90; \n",
    "N = 1300000000; #1.3 Billion population of India\n",
    "\n",
    "\n",
    "\n",
    "@gen function sample_SIR()\n",
    "    \n",
    "    #Sample date of introduction\n",
    "    intro = @trace(poisson(10), :intro) #Expected introduction 10 days from now\n",
    "    days = projection_days - intro\n",
    "    \n",
    "    log_r0 = @trace(normal(log(2.6), 0.5), :log_r0)\n",
    "    r0 = exp(log_r0)\n",
    "    \n",
    "    inf_period = @trace(normal(4.5, 0.5), :inf_period)\n",
    "    \n",
    "    model = SIR.SIR(N,days, r0 = r0, inf_period = inf_period)\n",
    "    S,I,R = model.project()\n",
    "    return S,I,R\n",
    "end\n",
    "\n"
   ]
  },
  {
   "cell_type": "code",
   "execution_count": 11,
   "metadata": {},
   "outputs": [
    {
     "data": {
      "text/plain": [
       "11"
      ]
     },
     "execution_count": 11,
     "metadata": {},
     "output_type": "execute_result"
    }
   ],
   "source": [
    "poisson(10)"
   ]
  },
  {
   "cell_type": "code",
   "execution_count": 16,
   "metadata": {},
   "outputs": [
    {
     "data": {
      "text/plain": [
       "0.6931471805599453"
      ]
     },
     "execution_count": 16,
     "metadata": {},
     "output_type": "execute_result"
    }
   ],
   "source": [
    "\n",
    "log(2)"
   ]
  },
  {
   "cell_type": "code",
   "execution_count": null,
   "metadata": {},
   "outputs": [],
   "source": []
  }
 ],
 "metadata": {
  "kernelspec": {
   "display_name": "Julia 1.1.0",
   "language": "julia",
   "name": "julia-1.1"
  },
  "language_info": {
   "file_extension": ".jl",
   "mimetype": "application/julia",
   "name": "julia",
   "version": "1.1.0"
  }
 },
 "nbformat": 4,
 "nbformat_minor": 4
}
