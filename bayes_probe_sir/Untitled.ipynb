{
 "cells": [
  {
   "cell_type": "code",
   "execution_count": 1,
   "metadata": {},
   "outputs": [],
   "source": [
    "using Gen\n",
    "using PyCall\n",
    "using ProgressBars\n",
    "pushfirst!(PyVector(pyimport(\"sys\").\"path\"), \"\");\n",
    "\n",
    "\n"
   ]
  },
  {
   "cell_type": "code",
   "execution_count": 17,
   "metadata": {},
   "outputs": [
    {
     "data": {
      "text/latex": [
       "The analogue of IPython's \\texttt{\\%matplotlib} in Julia is to use the \\href{https://github.com/stevengj/PyPlot.jl}{PyPlot package}, which gives a Julia interface to Matplotlib including inline plots in IJulia notebooks.   (The equivalent of \\texttt{numpy} is already loaded by default in Julia.)\n",
       "\n",
       "Given PyPlot, the analogue of \\texttt{\\%matplotlib inline} is \\texttt{using PyPlot}, since PyPlot defaults to inline plots in IJulia.\n",
       "\n",
       "To enable separate GUI windows in PyPlot, analogous to \\texttt{\\%matplotlib}, do \\texttt{using PyPlot; pygui(true)}.   To specify a particular gui backend, analogous to \\texttt{\\%matplotlib gui}, you can either do \\texttt{using PyPlot; pygui(:gui); using PyPlot; pygui(true)} (where \\texttt{gui} is \\texttt{wx}, \\texttt{qt}, \\texttt{tk}, or \\texttt{gtk}), or you can do \\texttt{ENV[\"MPLBACKEND\"]=backend; using PyPlot; pygui(true)} (where \\texttt{backend} is the name of a Matplotlib backend, like \\texttt{tkagg}).\n",
       "\n",
       "For more options, see the PyPlot documentation.\n",
       "\n"
      ],
      "text/markdown": [
       "The analogue of IPython's `%matplotlib` in Julia is to use the [PyPlot package](https://github.com/stevengj/PyPlot.jl), which gives a Julia interface to Matplotlib including inline plots in IJulia notebooks.   (The equivalent of `numpy` is already loaded by default in Julia.)\n",
       "\n",
       "Given PyPlot, the analogue of `%matplotlib inline` is `using PyPlot`, since PyPlot defaults to inline plots in IJulia.\n",
       "\n",
       "To enable separate GUI windows in PyPlot, analogous to `%matplotlib`, do `using PyPlot; pygui(true)`.   To specify a particular gui backend, analogous to `%matplotlib gui`, you can either do `using PyPlot; pygui(:gui); using PyPlot; pygui(true)` (where `gui` is `wx`, `qt`, `tk`, or `gtk`), or you can do `ENV[\"MPLBACKEND\"]=backend; using PyPlot; pygui(true)` (where `backend` is the name of a Matplotlib backend, like `tkagg`).\n",
       "\n",
       "For more options, see the PyPlot documentation.\n"
      ],
      "text/plain": [
       "  The analogue of IPython's \u001b[36m%matplotlib\u001b[39m in Julia is to use the PyPlot package\n",
       "  (https://github.com/stevengj/PyPlot.jl), which gives a Julia interface to\n",
       "  Matplotlib including inline plots in IJulia notebooks. (The equivalent of\n",
       "  \u001b[36mnumpy\u001b[39m is already loaded by default in Julia.)\n",
       "\n",
       "  Given PyPlot, the analogue of \u001b[36m%matplotlib inline\u001b[39m is \u001b[36musing PyPlot\u001b[39m, since\n",
       "  PyPlot defaults to inline plots in IJulia.\n",
       "\n",
       "  To enable separate GUI windows in PyPlot, analogous to \u001b[36m%matplotlib\u001b[39m, do \u001b[36musing\n",
       "  PyPlot; pygui(true)\u001b[39m. To specify a particular gui backend, analogous to\n",
       "  \u001b[36m%matplotlib gui\u001b[39m, you can either do \u001b[36musing PyPlot; pygui(:gui); using PyPlot;\n",
       "  pygui(true)\u001b[39m (where \u001b[36mgui\u001b[39m is \u001b[36mwx\u001b[39m, \u001b[36mqt\u001b[39m, \u001b[36mtk\u001b[39m, or \u001b[36mgtk\u001b[39m), or you can do\n",
       "  \u001b[36mENV[\"MPLBACKEND\"]=backend; using PyPlot; pygui(true)\u001b[39m (where \u001b[36mbackend\u001b[39m is the\n",
       "  name of a Matplotlib backend, like \u001b[36mtkagg\u001b[39m).\n",
       "\n",
       "  For more options, see the PyPlot documentation."
      ]
     },
     "metadata": {},
     "output_type": "display_data"
    }
   ],
   "source": [
    "SIR = pyimport(\"sir\")\n",
    "sns = pyimport(\"seaborn\")\n",
    "matplotlib = pyimport(\"matplotlib\")\n",
    "%matplotlib inline\n",
    "plt = matplotlib.pyplot\n",
    "model = SIR.SIR(1000)\n",
    "S,I,R  = model.project(10)\n",
    "I[end]"
   ]
  },
  {
   "cell_type": "markdown",
   "metadata": {},
   "source": [
    "# Probabilistic Disease Model"
   ]
  },
  {
   "cell_type": "code",
   "execution_count": 3,
   "metadata": {},
   "outputs": [
    {
     "name": "stderr",
     "output_type": "stream",
     "text": [
      "┌ Warning: `lgamma(x::Real)` is deprecated, use `(logabsgamma(x))[1]` instead.\n",
      "│   caller = traceat(::Gen.GFSimulateState, ::Gen.Poisson, ::Tuple{Int64}, ::Symbol) at poisson.jl:11\n",
      "└ @ Gen /home/ajshah/.julia/packages/Gen/qL5ue/src/modeling_library/poisson.jl:11\n"
     ]
    },
    {
     "name": "stdout",
     "output_type": "stream",
     "text": [
      "│\n",
      "├── :obs : 219.17518314213558\n",
      "│\n",
      "└── :model\n",
      "    │\n",
      "    ├── :log_r0 : 1.0478941997331028\n",
      "    │\n",
      "    ├── :inf_period : 5.43943326499934\n",
      "    │\n",
      "    └── :intro : 10\n",
      "\n",
      "1.0478941997331028\n"
     ]
    }
   ],
   "source": [
    "projection_days = 90; \n",
    "N = 1300000000; #1.3 Billion population of India\n",
    "\n",
    "sigma = 100\n",
    "\n",
    "@gen function sample_SIR()\n",
    "    \n",
    "    #Sample date of introduction\n",
    "    intro = @trace(poisson(10), :intro) #Expected introduction 10 days from now\n",
    "    days = projection_days - intro\n",
    "    \n",
    "    log_r0 = @trace(normal(log(2.6), 0.5), :log_r0)\n",
    "    r0 = exp(log_r0)\n",
    "    \n",
    "    inf_period = @trace(normal(4.5, 0.5), :inf_period)\n",
    "    \n",
    "    model = SIR.SIR(N, r0 = r0, inf_period = inf_period)\n",
    "    #S,I,R = model.project(days)\n",
    "    return model\n",
    "end\n",
    "\n",
    "@gen function final_infections(sigma)\n",
    "    model = @trace(sample_SIR(), :model)\n",
    "    #println(model)\n",
    "    final_infected = model.final_infection()[1]*model.N\n",
    "    obs = @trace(normal(final_infected, sigma), :obs)\n",
    "    return final_infected\n",
    "end\n",
    "\n",
    "@gen function projection(days, sigma)\n",
    "    model = @trace(sample_SIR(), :model)\n",
    "    S,I,R = model.project(days)\n",
    "    \n",
    "    infected_population = I[end]\n",
    "    obs = @trace(normal(infected_population, sigma), :obs)\n",
    "    return infected_population\n",
    "end\n",
    "\n",
    "@gen function peak_case_load(days, sigma)\n",
    "    model = @trace(sample_SIR(), :model)\n",
    "    S,I,R = model.project(days)\n",
    "    \n",
    "    max_load = maximum(I)\n",
    "    obs = @trace(normal(max_load, sigma), :obs)\n",
    "    return max_load\n",
    "end\n",
    "    \n",
    "\n",
    "tr = simulate(projection, (10,100))\n",
    "println(get_choices(tr))\n",
    "println(tr[:model => :log_r0])\n"
   ]
  },
  {
   "cell_type": "markdown",
   "metadata": {},
   "source": [
    "# MH Sampling"
   ]
  },
  {
   "cell_type": "markdown",
   "metadata": {},
   "source": [
    "**Gaussian drift proposal**\n"
   ]
  },
  {
   "cell_type": "code",
   "execution_count": 4,
   "metadata": {},
   "outputs": [
    {
     "name": "stderr",
     "output_type": "stream",
     "text": [
      "┌ Warning: `lgamma(x::Real)` is deprecated, use `(logabsgamma(x))[1]` instead.\n",
      "│   caller = logpdf at poisson.jl:11 [inlined]\n",
      "└ @ Core /home/ajshah/.julia/packages/Gen/qL5ue/src/modeling_library/poisson.jl:11\n",
      "┌ Warning: `lgamma(x::Real)` is deprecated, use `(logabsgamma(x))[1]` instead.\n",
      "│   caller = traceat(::Gen.GFUpdateState, ::Gen.Poisson, ::Tuple{Int64}, ::Symbol) at poisson.jl:11\n",
      "└ @ Gen /home/ajshah/.julia/packages/Gen/qL5ue/src/modeling_library/poisson.jl:11\n"
     ]
    },
    {
     "name": "stdout",
     "output_type": "stream",
     "text": [
      "100.00%┣█████████████████████████████████████████████████████▉┫ 10000/10000 00:19<00:00, 538.72 it/s]\n",
      "95.20%┣████████████████████████████████████████████████████▎  ┫ 47599/50000 01:26<00:04, 556.00 it/s]"
     ]
    },
    {
     "name": "stderr",
     "output_type": "stream",
     "text": [
      "Excessive output truncated after 524318 bytes."
     ]
    },
    {
     "name": "stdout",
     "output_type": "stream",
     "text": [
      "\r",
      "\r",
      "\r",
      "\r",
      "\r",
      "\r",
      "\r",
      "\r",
      "\r",
      "\r",
      "\r",
      "\r",
      "\r",
      "\r",
      "\r",
      "\r",
      "\r",
      "\r",
      "\r",
      "\r",
      "\r",
      "\r",
      "\r",
      "\r",
      "\r",
      "\r",
      "\r",
      "\r",
      "\r",
      "\r",
      "\r",
      "\r",
      "\r",
      "\r",
      "\r",
      "\r",
      "\r",
      "\r",
      "\r",
      "\r",
      "\r",
      "\r",
      "\r",
      "\r",
      "\r",
      "\r",
      "\r",
      "\r",
      "\r",
      "\r",
      "\r",
      "\r",
      "\r",
      "\r",
      "\r",
      "\r",
      "\r",
      "\r",
      "\r",
      "\r",
      "\r",
      "\r",
      "\r",
      "\r",
      "\r",
      "\r",
      "\r",
      "\r",
      "\r",
      "\r",
      "\r",
      "\r",
      "\r",
      "\r",
      "\r",
      "\r",
      "\r",
      "\r",
      "\r",
      "\r",
      "\r",
      "\r",
      "\r",
      "\r",
      "\r",
      "\r",
      "\r",
      "\r",
      "\r",
      "\r",
      "\r",
      "\r",
      "\r",
      "\r",
      "\r",
      "\r",
      "\r",
      "\r",
      "\r",
      "\r",
      "95.26%┣████████████████████████████████████████████████████▍  ┫ 47629/50000 01:26<00:04, 556.02 it/s]\r",
      "\r",
      "\r",
      "\r",
      "\r",
      "\r",
      "\r",
      "\r",
      "\r",
      "\r",
      "\r",
      "\r",
      "\r",
      "\r",
      "\r",
      "\r",
      "\r",
      "\r",
      "\r",
      "\r",
      "\r",
      "\r",
      "\r",
      "\r",
      "\r",
      "\r",
      "\r",
      "\r",
      "\r",
      "\r",
      "\r",
      "\r",
      "\r",
      "\r",
      "\r",
      "\r",
      "\r",
      "\r",
      "\r",
      "\r",
      "\r",
      "\r",
      "\r",
      "\r",
      "\r",
      "\r",
      "\r",
      "\r",
      "\r",
      "\r",
      "\r",
      "\r",
      "\r",
      "\r",
      "\r",
      "\r",
      "\r",
      "\r",
      "\r",
      "\r",
      "\r",
      "\r",
      "\r",
      "\r",
      "\r",
      "\r",
      "\r",
      "\r",
      "\r",
      "\r",
      "\r",
      "\r",
      "\r",
      "\r",
      "\r",
      "\r",
      "\r",
      "\r",
      "\r",
      "\r",
      "\r",
      "\r",
      "\r",
      "\r",
      "\r",
      "\r",
      "\r",
      "\r",
      "\r",
      "\r",
      "\r",
      "\r",
      "\r",
      "\r",
      "\r",
      "\r",
      "\r",
      "\r",
      "\r",
      "\r",
      "95.32%┣████████████████████████████████████████████████████▍  "
     ]
    },
    {
     "data": {
      "text/plain": [
       "5"
      ]
     },
     "execution_count": 4,
     "metadata": {},
     "output_type": "execute_result"
    }
   ],
   "source": [
    "sigma_r0 = 0.001\n",
    "sigma_inf = 1\n",
    "\n",
    "#Block resampling for date of introduction\n",
    "\n",
    "@gen function drift_proposal(tr, sigma_r0, sigma_inf)\n",
    "    \n",
    "    #perturb r0\n",
    "    @trace(normal(tr[:model => :log_r0], sigma_r0), :model => :log_r0)\n",
    "    \n",
    "    #perturb infection period\n",
    "    @trace(normal(tr[:model => :inf_period], sigma_inf), :model => :inf_period)\n",
    "    \n",
    "    #@trace(poisson(10), :model => :intro)\n",
    "end\n",
    "\n",
    "# tr = simulate(projection,(10, 100))\n",
    "# println(get_choices(tr))\n",
    "# tr = simulate(drift_proposal, (tr, sigma_r0, sigma_inf))\n",
    "# println(get_choices(tr))\n",
    "\n",
    "    "
   ]
  },
  {
   "cell_type": "markdown",
   "metadata": {},
   "source": [
    "**Final Infections**"
   ]
  },
  {
   "cell_type": "code",
   "execution_count": 23,
   "metadata": {},
   "outputs": [
    {
     "name": "stdout",
     "output_type": "stream",
     "text": [
      "100.00%┣████████████████████████████████████████████████████▉┫ 10000/10000 00:03<00:00, 3601.38 it/s]\n",
      "100.00%┣████████████████████████████████████████████████████▉┫ 50000/50000 00:14<00:00, 3529.89 it/s]\n"
     ]
    }
   ],
   "source": [
    "observed_final_infections = 100000000 #100 million final infections\n",
    "nsamples = 50000\n",
    "burn = 10000\n",
    "samples = []\n",
    "r0s = []\n",
    "inf_periods = []\n",
    "\n",
    "constraints = choicemap()\n",
    "constraints[:obs] = observed_final_infections\n",
    "\n",
    "#Draw and discard burning samples\n",
    "tr,_ = generate(final_infections, (100,), constraints)\n",
    "push!(samples, tr)\n",
    "for i = tqdm(1:burn)    \n",
    "    (tr, _) = mh(tr, drift_proposal, (sigma_r0, sigma_inf))\n",
    "end\n",
    "\n",
    "#Now collect the samples\n",
    "for i = tqdm(1:nsamples)\n",
    "    (tr, flag) = mh(tr, drift_proposal, (sigma_r0, sigma_inf))\n",
    "    if flag\n",
    "        push!(samples, tr)\n",
    "    end\n",
    "end\n",
    "\n",
    "r0s_final = []\n",
    "inf_periods_final = []\n",
    "for i = 2:length(samples)\n",
    "    push!(r0s_final, exp(samples[i][:model=>:log_r0]))\n",
    "    push!(inf_periods_final, samples[i][:model=>:inf_period])\n",
    "end\n"
   ]
  },
  {
   "cell_type": "code",
   "execution_count": 26,
   "metadata": {},
   "outputs": [
    {
     "name": "stdout",
     "output_type": "stream",
     "text": [
      "Any[1.04056, 1.04056, 1.04056, 1.04056, 1.04056, 1.04055, 1.04056, 1.04055, 1.04055, 1.04056, 1.04056]\n"
     ]
    }
   ],
   "source": [
    "println(r0s_final)"
   ]
  },
  {
   "cell_type": "markdown",
   "metadata": {},
   "source": [
    "**Projections by Nth day**"
   ]
  },
  {
   "cell_type": "code",
   "execution_count": 28,
   "metadata": {},
   "outputs": [
    {
     "name": "stdout",
     "output_type": "stream",
     "text": [
      "100.00%┣█████████████████████████████████████████████████████▉┫ 10000/10000 00:20<00:00, 508.14 it/s]\n",
      "87.62%┣████████████████████████████████████████████████▏      ┫ 43811/50000 01:26<00:12, 512.34 it/s]"
     ]
    },
    {
     "name": "stderr",
     "output_type": "stream",
     "text": [
      "Excessive output truncated after 524364 bytes."
     ]
    }
   ],
   "source": [
    "observed_final_infections = 100000000 #100 million infections by day 100\n",
    "nsamples = 50000\n",
    "burn = 10000\n",
    "samples = []\n",
    "r0s = []\n",
    "inf_periods = []\n",
    "\n",
    "constraints = choicemap()\n",
    "constraints[:obs] = observed_final_infections\n",
    "\n",
    "#Draw and discard burning samples\n",
    "tr,_ = generate(projection, (100,100), constraints)\n",
    "push!(samples, tr)\n",
    "for i = tqdm(1:burn)    \n",
    "    (tr, _) = mh(tr, drift_proposal, (sigma_r0, sigma_inf))\n",
    "end\n",
    "\n",
    "#Now collect the samples\n",
    "for i = tqdm(1:nsamples)\n",
    "    (tr, flag) = mh(tr, drift_proposal, (sigma_r0, sigma_inf))\n",
    "    if flag\n",
    "        push!(samples, tr)\n",
    "    end\n",
    "end\n",
    "\n",
    "r0s_projected = []\n",
    "inf_periods_projected = []\n",
    "for i = 2:length(samples)\n",
    "    push!(r0s_projected, exp(samples[i][:model=>:log_r0]))\n",
    "    push!(inf_periods_projected, samples[i][:model=>:inf_period])\n",
    "end\n",
    "\n",
    "\n",
    "println(r0s_projected)\n",
    "\n"
   ]
  },
  {
   "cell_type": "code",
   "execution_count": 29,
   "metadata": {},
   "outputs": [
    {
     "name": "stdout",
     "output_type": "stream",
     "text": [
      "Any[3.16925, 3.16974]\n",
      "Any[0.233223, 0.159224]\n"
     ]
    }
   ],
   "source": [
    "println(r0s_projected)\n",
    "println(inf_periods_projected)"
   ]
  },
  {
   "cell_type": "markdown",
   "metadata": {},
   "source": [
    "**Peak Case Load**"
   ]
  },
  {
   "cell_type": "code",
   "execution_count": 31,
   "metadata": {},
   "outputs": [
    {
     "name": "stdout",
     "output_type": "stream",
     "text": [
      "100.00%┣█████████████████████████████████████████████████████▉┫ 10000/10000 00:15<00:00, 664.92 it/s]\n",
      "100.00%┣█████████████████████████████████████████████████████▉┫ 50000/50000 01:09<00:00, 722.07 it/s]\n",
      "Any[1.57642, 1.57679, 1.57659, 1.57645, 1.57643, 1.5772]\n"
     ]
    }
   ],
   "source": [
    "observed_final_infections = 100000000 #100 million peak case load\n",
    "nsamples = 50000\n",
    "burn = 10000\n",
    "samples = []\n",
    "\n",
    "constraints = choicemap()\n",
    "constraints[:obs] = observed_final_infections\n",
    "\n",
    "#Draw and discard burning samples\n",
    "tr,_ = generate(peak_case_load, (100,100), constraints)\n",
    "\n",
    "for i = tqdm(1:burn)    \n",
    "    (tr, _) = mh(tr, drift_proposal, (sigma_r0, sigma_inf))\n",
    "end\n",
    "push!(samples, tr)\n",
    "#Now collect the samples\n",
    "for i = tqdm(1:nsamples)\n",
    "    (tr, flag) = mh(tr, drift_proposal, (sigma_r0, sigma_inf))\n",
    "    if flag\n",
    "        push!(samples, tr)\n",
    "    end\n",
    "end\n",
    "\n",
    "r0s_projected = []\n",
    "inf_periods_projected = []\n",
    "for i = 2:length(samples)\n",
    "    push!(r0s_projected, exp(samples[i][:model=>:log_r0]))\n",
    "    push!(inf_periods_projected, samples[i][:model=>:inf_period])\n",
    "end\n",
    "\n",
    "\n",
    "println(r0s_projected)"
   ]
  },
  {
   "cell_type": "code",
   "execution_count": 32,
   "metadata": {},
   "outputs": [
    {
     "name": "stdout",
     "output_type": "stream",
     "text": [
      "Any[1.57642, 1.57679, 1.57659, 1.57645, 1.57643, 1.5772]\n",
      "Any[2.79053, 2.88949, 2.88513, 2.88073, 2.50221, 2.80899]\n"
     ]
    }
   ],
   "source": [
    "println(r0s_projected)\n",
    "println(inf_periods_projected)"
   ]
  },
  {
   "cell_type": "markdown",
   "metadata": {},
   "source": [
    "## Annealed Importance Sampling"
   ]
  },
  {
   "cell_type": "code",
   "execution_count": 10,
   "metadata": {},
   "outputs": [
    {
     "ename": "BoundsError",
     "evalue": "BoundsError: attempt to access 0-element Array{Any,1} at index [1]",
     "output_type": "error",
     "traceback": [
      "BoundsError: attempt to access 0-element Array{Any,1} at index [1]",
      "",
      "Stacktrace:",
      " [1] setindex!(::Array{Any,1}, ::Any, ::Int64) at ./essentials.jl:419",
      " [2] top-level scope at In[10]:2"
     ]
    }
   ],
   "source": []
  },
  {
   "cell_type": "code",
   "execution_count": null,
   "metadata": {},
   "outputs": [],
   "source": []
  }
 ],
 "metadata": {
  "kernelspec": {
   "display_name": "Julia 1.1.0",
   "language": "julia",
   "name": "julia-1.1"
  },
  "language_info": {
   "file_extension": ".jl",
   "mimetype": "application/julia",
   "name": "julia",
   "version": "1.1.0"
  }
 },
 "nbformat": 4,
 "nbformat_minor": 4
}
