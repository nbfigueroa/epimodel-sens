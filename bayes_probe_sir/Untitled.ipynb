{
 "cells": [
  {
   "cell_type": "code",
   "execution_count": 4,
   "metadata": {},
   "outputs": [
    {
     "name": "stderr",
     "output_type": "stream",
     "text": [
      "┌ Info: Precompiling ProgressBars [49802e3a-d2f1-5c88-81d8-b72133a6f568]\n",
      "└ @ Base loading.jl:1260\n"
     ]
    },
    {
     "data": {
      "text/plain": [
       "PyObject ['', 'C:\\\\Users\\\\AJShah\\\\.julia\\\\conda\\\\3\\\\python37.zip', 'C:\\\\Users\\\\AJShah\\\\.julia\\\\conda\\\\3\\\\DLLs', 'C:\\\\Users\\\\AJShah\\\\.julia\\\\conda\\\\3\\\\lib', 'C:\\\\Users\\\\AJShah\\\\AppData\\\\Local\\\\Programs\\\\Julia\\\\Julia-1.4.0\\\\bin', 'C:\\\\Users\\\\AJShah\\\\.julia\\\\conda\\\\3', 'C:\\\\Users\\\\AJShah\\\\.julia\\\\conda\\\\3\\\\lib\\\\site-packages', 'C:\\\\Users\\\\AJShah\\\\.julia\\\\conda\\\\3\\\\lib\\\\site-packages\\\\win32', 'C:\\\\Users\\\\AJShah\\\\.julia\\\\conda\\\\3\\\\lib\\\\site-packages\\\\win32\\\\lib', 'C:\\\\Users\\\\AJShah\\\\.julia\\\\conda\\\\3\\\\lib\\\\site-packages\\\\Pythonwin']"
      ]
     },
     "execution_count": 4,
     "metadata": {},
     "output_type": "execute_result"
    }
   ],
   "source": [
    "using Gen\n",
    "using PyCall\n",
    "using ProgressBars\n",
    "pushfirst!(PyVector(pyimport(\"sys\").\"path\"), \"\");\n"
   ]
  },
  {
   "cell_type": "code",
   "execution_count": 8,
   "metadata": {},
   "outputs": [
    {
     "ename": "PyCall.PyError",
     "evalue": "PyError (PyImport_ImportModule\n\nThe Python package sir could not be found by pyimport. Usually this means\nthat you did not install sir in the Python version being used by PyCall.\n\nPyCall is currently configured to use the Julia-specific Python distribution\ninstalled by the Conda.jl package.  To install the sir module, you can\nuse `pyimport_conda(\"sir\", PKG)`, where PKG is the Anaconda\npackage the contains the module sir, or alternatively you can use the\nConda package directly (via `using Conda` followed by `Conda.add` etcetera).\n\nAlternatively, if you want to use a different Python distribution on your\nsystem, such as a system-wide Python (as opposed to the Julia-specific Python),\nyou can re-configure PyCall with that Python.   As explained in the PyCall\ndocumentation, set ENV[\"PYTHON\"] to the path/name of the python executable\nyou want to use, run Pkg.build(\"PyCall\"), and re-launch Julia.\n\n) <class 'ModuleNotFoundError'>\nModuleNotFoundError(\"No module named 'scipy'\")\n  File \"C:\\Users\\AJShah\\Documents\\GitHub\\MIT-COVID19-Model-Evaluation\\bayes_probe_sir\\sir.py\", line 2, in <module>\n    from scipy.integrate import odeint\n",
     "output_type": "error",
     "traceback": [
      "PyError (PyImport_ImportModule\n\nThe Python package sir could not be found by pyimport. Usually this means\nthat you did not install sir in the Python version being used by PyCall.\n\nPyCall is currently configured to use the Julia-specific Python distribution\ninstalled by the Conda.jl package.  To install the sir module, you can\nuse `pyimport_conda(\"sir\", PKG)`, where PKG is the Anaconda\npackage the contains the module sir, or alternatively you can use the\nConda package directly (via `using Conda` followed by `Conda.add` etcetera).\n\nAlternatively, if you want to use a different Python distribution on your\nsystem, such as a system-wide Python (as opposed to the Julia-specific Python),\nyou can re-configure PyCall with that Python.   As explained in the PyCall\ndocumentation, set ENV[\"PYTHON\"] to the path/name of the python executable\nyou want to use, run Pkg.build(\"PyCall\"), and re-launch Julia.\n\n) <class 'ModuleNotFoundError'>\nModuleNotFoundError(\"No module named 'scipy'\")\n  File \"C:\\Users\\AJShah\\Documents\\GitHub\\MIT-COVID19-Model-Evaluation\\bayes_probe_sir\\sir.py\", line 2, in <module>\n    from scipy.integrate import odeint\n",
      "",
      "Stacktrace:",
      " [1] pyimport(::String) at C:\\Users\\AJShah\\.julia\\packages\\PyCall\\zqDXB\\src\\PyCall.jl:536",
      " [2] top-level scope at In[8]:1"
     ]
    }
   ],
   "source": [
    "pyimport(\"sir\")"
   ]
  },
  {
   "cell_type": "code",
   "execution_count": 9,
   "metadata": {},
   "outputs": [
    {
     "ename": "KeyError",
     "evalue": "KeyError: key \"PYTHON\" not found",
     "output_type": "error",
     "traceback": [
      "KeyError: key \"PYTHON\" not found",
      "",
      "Stacktrace:",
      " [1] (::Base.var\"#459#460\")(::String) at .\\env.jl:79",
      " [2] access_env(::Base.var\"#459#460\", ::String) at .\\env.jl:14",
      " [3] getindex(::Base.EnvDict, ::String) at .\\env.jl:79",
      " [4] top-level scope at In[9]:1"
     ]
    }
   ],
   "source": [
    "ENV[\"PYTHON\"]\n"
   ]
  },
  {
   "cell_type": "code",
   "execution_count": null,
   "metadata": {},
   "outputs": [],
   "source": []
  }
 ],
 "metadata": {
  "kernelspec": {
   "display_name": "Julia 1.4.0",
   "language": "julia",
   "name": "julia-1.4"
  },
  "language_info": {
   "file_extension": ".jl",
   "mimetype": "application/julia",
   "name": "julia",
   "version": "1.4.0"
  }
 },
 "nbformat": 4,
 "nbformat_minor": 4
}
